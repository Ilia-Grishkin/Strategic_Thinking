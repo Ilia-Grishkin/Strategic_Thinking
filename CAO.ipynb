{
 "cells": [
  {
   "cell_type": "markdown",
   "id": "1d85cf10",
   "metadata": {},
   "source": [
    "# Prediction Olympic Athletes’ performance using Anthropometric Measurements, Age, Gender and Nationality Data"
   ]
  },
  {
   "cell_type": "markdown",
   "id": "e9ec38be",
   "metadata": {},
   "source": [
    "***"
   ]
  },
  {
   "cell_type": "markdown",
   "id": "1c492c7d",
   "metadata": {},
   "source": [
    "## Introduction"
   ]
  },
  {
   "cell_type": "markdown",
   "id": "9596e3d6",
   "metadata": {},
   "source": [
    "#### The vast majority of athletes consider the Olympic Games as the top of their sporting and physical achievements. A large number of advancements and discoveries can be associated with the drive to succeed in Olympic games.\n",
    "\n",
    "#### Olympic athletes represent the highest level of human physical abilities, as highlighted by Borms and Hebbelinck (1984) in their study. They assert that athletes competing in the Olympics or world class athletes show the ideal composition of genetic predispositions and environmental factors, as a result they are able to reach a peak of their performance. Theoretically, those athletes who stand out the most in their specific events,  possessing the optimal physical structure for those types of physical activity, as discussed by Carter (1985).\n",
    "\n",
    "#### Within last century Olympic Games have been experiencing an enormous upward of competitiveness. In this evolving stage, coaches and supporting team should collaborate closely with data scientists to create and develop predictive models for athletes' performance, identify outliers, patterns and trends. This collaboration is essential not only for improving current athletes' metrics but also for the selection of young talents for specific events. Numerous studies, including those by Cuk and Karácsony (2002), Arkaev and Suchilin (2004), pointed out the significance of anthropometric characteristics in influencing the success of athletes in achieving their goals.\n",
    "\n",
    "#### The significance of elite athletes' age in their performance also must be mentioned. Sports researchers acknowledge that even the month of birth compering to other athletes may determine an athlete's likelihood of reaching high performance, a phenomenon known as the relative age effect, as highlighted by J. Musch (2001).\n",
    "\n",
    "#### Another vital factor which has significant impact on athletes’ successes is nationality or the country they represent. It is very important to consider because each country which shows up on Olympic Games has it own methodologies for many disciplines. Identifying the correlations between country which provides training and its success may a key for mutually beneficial exchanges of methods, practices, approaches and databases between counties. Additionally, there is a strong correlation between a country and an athlete's performance directly related to the athlete selection process. As was mentioned by De Bosscher V. (2007), the larger population provides the bigger talent sample for recruitment opportunities for arranging trainings and competitions.\n",
    "\n",
    "#### This study will specifically concentrate on predicting athletic performance by analysing anthropometric characteristics, including weight, height and body mass index. Also, relevant data such as age, gender and nationality  for each athlete will be included into the analysis."
   ]
  },
  {
   "cell_type": "markdown",
   "id": "45dfb7ac",
   "metadata": {},
   "source": [
    "***"
   ]
  },
  {
   "cell_type": "markdown",
   "id": "47ae7071",
   "metadata": {},
   "source": [
    "## References "
   ]
  },
  {
   "cell_type": "markdown",
   "id": "50994d67",
   "metadata": {},
   "source": [
    "#### McArdle, W.D., Katch, F.I. & Katch, V.L. (2000). Body composition: components, assessment, and human variability. In: \n",
    "#### E.Johnson (Ed.) Essentials of Exercise Physiology (pp. 500-527). Lippincott Williams and Wilkins, USA.\n",
    "#### Carter JEL. Morphological Factors Limiting Human Performance. In: Clarke DH, Eckert HM, eds. Limits of Human Performance. American Academy of Physical Education Papers, No. 18. Champaign: Human Kinetics, 1985: 106 117\n",
    "#### Borms J, Hebbelinck M. Review of Studies on Olympic Athletes. In: Carter JEL, ed. Physical Structure of Olympic Athletes Part 11: Kinanthropometry of Olympic Athletes, New York: Basel-Karger, 1984: 7-27.\n",
    "#### Arkaev, L. I. & Suchilin, N. G. How to Create Champions. Oxford, Meyer & Meyer Sport, 2004.\n",
    "#### Cuk, I. & Karácsony, I. Rings. Methods, Ideas, Curiosities, History. Norman (OK), Paul Ziert & Associates, 2002.\n",
    "#### J. Musch et al.Unequal competition as an impediment to personal development: a review of the relative age effect in sport, 2001.\n",
    "#### De Bosscher V., Sports Policy Factors Leading to International Sporting success, Published Doctoral thesis, Vrije Universiteit Brussel, Brussel, VUBPRESS, 2007."
   ]
  },
  {
   "cell_type": "code",
   "execution_count": null,
   "id": "b8da49dc",
   "metadata": {},
   "outputs": [],
   "source": []
  }
 ],
 "metadata": {
  "kernelspec": {
   "display_name": "Python 3 (ipykernel)",
   "language": "python",
   "name": "python3"
  },
  "language_info": {
   "codemirror_mode": {
    "name": "ipython",
    "version": 3
   },
   "file_extension": ".py",
   "mimetype": "text/x-python",
   "name": "python",
   "nbconvert_exporter": "python",
   "pygments_lexer": "ipython3",
   "version": "3.9.13"
  }
 },
 "nbformat": 4,
 "nbformat_minor": 5
}
