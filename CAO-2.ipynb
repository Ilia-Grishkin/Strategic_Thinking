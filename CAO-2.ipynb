{
 "cells": [
  {
   "cell_type": "markdown",
   "id": "1d85cf10",
   "metadata": {},
   "source": [
    "# Prediction Olympic Athletes’ performance using Anthropometric Measurements, Age, Gender and Nationality Data"
   ]
  },
  {
   "cell_type": "markdown",
   "id": "e9ec38be",
   "metadata": {},
   "source": [
    "***"
   ]
  },
  {
   "cell_type": "markdown",
   "id": "1c492c7d",
   "metadata": {},
   "source": [
    "# Introduction"
   ]
  },
  {
   "cell_type": "markdown",
   "id": "9596e3d6",
   "metadata": {},
   "source": [
    "The vast majority of athletes consider the Olympic Games as the top of their sporting and physical achievements. A large number of advancements and discoveries can be associated with the drive to succeed in Olympic games.\n",
    "\n",
    "Olympic athletes represent the highest level of human physical abilities, as highlighted by Borms and Hebbelinck (1984) in their study. They assert that athletes competing in the Olympics or world class athletes show the ideal composition of genetic predispositions and environmental factors, as a result they are able to reach a peak of their performance. Theoretically, those athletes who stand out the most in their specific events,  possessing the optimal physical structure for those types of physical activity, as discussed by Carter (1985).\n",
    "\n",
    "Within last century Olympic Games have been experiencing an enormous upward of competitiveness. In this evolving stage, coaches and supporting team should collaborate closely with data scientists to create and develop predictive models for athletes' performance, identify outliers, patterns and trends. This collaboration is essential not only for improving current athletes' metrics but also for the selection of young talents for specific events. Numerous studies, including those by Cuk and Karácsony (2002), Arkaev and Suchilin (2004), pointed out the significance of anthropometric characteristics in influencing the success of athletes in achieving their goals.\n",
    "\n",
    "The significance of elite athletes' age in their performance also must be mentioned. Sports researchers acknowledge that even the month of birth compering to other athletes may determine an athlete's likelihood of reaching high performance, a phenomenon known as the relative age effect, as highlighted by J. Musch (2001).\n",
    "\n",
    "Another vital factor which has significant impact on athletes’ successes is nationality or the country they represent. It is very important to consider because each country which shows up on Olympic Games has it own methodologies for many disciplines. Identifying the correlations between country which provides training and its success may a key for mutually beneficial exchanges of methods, practices, approaches and databases between counties. Additionally, there is a strong correlation between a country and an athlete's performance directly related to the athlete selection process. As was mentioned by De Bosscher V. (2007), the larger population provides the bigger talent sample for recruitment opportunities for arranging trainings and competitions.\n",
    "\n",
    "This study will specifically concentrate on predicting athletic performance by analysing anthropometric characteristics, including weight, height and body mass index. Also, relevant data such as age, gender and nationality  for each athlete will be included into the analysis."
   ]
  },
  {
   "cell_type": "markdown",
   "id": "45dfb7ac",
   "metadata": {},
   "source": [
    "***"
   ]
  },
  {
   "cell_type": "markdown",
   "id": "cd43f187",
   "metadata": {},
   "source": [
    "## Importance\n",
    "\n",
    "Using advanced analytical methods for predicting athletes' results in world-class sporting competitions can be highly beneficial for many depatments, organisations  and teams involved in sport industry.\n",
    "\n",
    "### Improvements in training and selection\n",
    "Sport performance analysis and techniques allow sports scientists, coaches, and athletes to analyze athlete performance objectively. Thus, performance analysis has become an important component of training Donoghue P. O. (2009), and it has a vital role in planning training and competition strategies Michalsik L.B. (2004) and Frantisek T. (2011).\n",
    "Machine learning uses previous experiences to make a connection with the future, and the success of the model is highly related to the characteristics of the dataset Sekeroglu B., Dimililer K. and Tuncal K.. In recent years, several experiments using different ML models have been performed in sports.\n",
    "\n",
    "1. Meayk E. and Unold O. (2011) combined fuzzy logic and machine learning to model swimming training. The classification accuracy of their proposed methodology reached 68.66%.\n",
    "2. Ofoghi B. et al (2013), implemented machine learning techniques for selecting athletes in cycling as well as for strategic planning. They implemented a statistical approach, K-means and a naive Bayes classifier for inter-omnium analysis, and Bayesian belief networks with discrete optimization techniques for intra-omnium performance analysis.\n",
    "3. Hore S. and Bhattacharya T. (2018) used naive Bayes, support vector machines (SVMs), multilayer perceptron feed-forward networks, and random forests to build a sustainability model for the National Basketball Association (NBA) players. They concluded that SVMs produced superior results than the other models, with an accuracy of 85.65%.\n",
    "4. Muazu Musa R. et al. (2019), implemented a variation of k-nearest neighbor and linear regression to classify high-potential archers using physical fitness indicators.\n",
    "5. Muazu Musa R. et al. (2019) conducted another study on the scouting of high-performance archers. They implemented artificial neural network and k-nearest neighbor models. They used the selected performance parameters of 50 archers. The obtained results showed that the artificial neural network model achieved a higher accuracy (92%) than the other models.\n",
    "6. Jesus K. et al. (2018) implemented and compared a linear model and artificial neural network to predict the backstroke start performances of ten male backstroke swimmers. They concluded that the artificial neural network outperformed the linear model.\n",
    "7. Maanijou R. and Mirroshandel S. A. (2019) proposed a method to predict soccer player rankings based on an expert system and ensemble learning. Twenty features of soccer players were considered, and a comparison was performed by considering bench mark machine learning models such as multilayer perceptron, support vector machines, naive Bayes, logistic regression, etc. They concluded that the proposed method achieved the highest accuracy (60%).\n",
    "8. Anik A.I. et al. (2018) proposed another method based on feature elimination and machine learning implementation to predict the performances of cricket players. The machine learning step of the proposed method consisted of linear regression and a support vector machine with linear and polynomial kernels. The highest prediction accuracies obtained for batsmen and bowlers were 91.5% and 75.3%, respectively.\n",
    "9. Zhou Z. et al. (2017) conducted a research to predict countermovement jump heights by using machine learning models. Decision tree, random forest, and linear regression models were implemented to train selected features of athletes. Evaluation was performed by considering three metrics; namely, the R2 score, root mean square error (RMSE) and mean absolute error (MAE). The obtained results demonstrated that linear regression outperformed the other considered machine learning models.\n",
    "\n",
    "### Equality and fairness\n",
    "The idea of regulating the impact of inequalities upon which individuals have little or no control and for which they cannot be claimed responsible has a long history in ethics and is included in various forms in most ethical theories (Arneson, 2015).\n",
    "A second kind of inequality is linked to what Heinilä (1982) calls system strength: the strength of the material, financial, technological, and scientific resources supporting an athlete or a team. Olympic national medal statistics state illustrates the point as it correlates with the ranking of nations according to gross national product (Flegl & Andrade, 2018).\n",
    "### Sport medicine \n",
    "As it was mentioned in research condacted by Bahr R, Clarsen B, Ekstrand J (2018), Injuries are very frequent issue in individual and team sports and can have physical and financial problems. Discovering and learning about factors which may cause an injury in sport a key component of prevention methods. Bahr R, Krosshaug T (2005).\n"
   ]
  },
  {
   "cell_type": "markdown",
   "id": "ae987364",
   "metadata": {},
   "source": [
    "## Data sourse and methods"
   ]
  },
  {
   "cell_type": "markdown",
   "id": "5ebd8ed0",
   "metadata": {},
   "source": [
    "### Data Source\n",
    "\n",
    "As a data sourse we will use an available for public use dataset \"120 years of Olympic history: athletes and results\" published on Kaggle (https://www.kaggle.com/datasets/heesoo37/120-years-of-olympic-history-athletes-and-results/data).\n",
    "Dataset contains 271116 rows and 15 columns which represent data about 134732 athletes performing in Olimpic games from 1896 to 2016."
   ]
  },
  {
   "cell_type": "markdown",
   "id": "b0a011f3",
   "metadata": {},
   "source": [
    "### EDA\n",
    "Exploratory Data Analysis (EDA). \n",
    "It will help us to understand the structure of the dataset including the size, shape, properties and types of variables. Also identify patterns and relationships between variables. Additionally, EDA allows as to select appropriate techniques and models for our futher alalysis.\n",
    "For reaching those objectives we are going to use following approaches:\n",
    "#### 1. Summary statistics\n",
    "Mean, median, mode, standard deviation.\n",
    "#### 2. Data visualization\n",
    "Histograms, box plots, scatter plots.\n",
    "#### 3. Correlation analysis\n",
    "Pearson correlation coefficient.\n",
    "#### 4. Outlier detection: \n",
    "IQR (Interquartile Range)\n"
   ]
  },
  {
   "cell_type": "markdown",
   "id": "fbcf2f82",
   "metadata": {},
   "source": [
    "### Data preparation\n",
    "Data preparation process is a very stage in the data analysis, it includes several steps to ensure that the data is in a appreciate  format for analysis and modeling. Depending on the project stages of data preparation may vary. In this project we are going to perform following stages:\n",
    "\n",
    "1. Data Cleaning\n",
    "Removing duplicate records and handling missing values using techniques such as mean, median, mode or method K-nearest neighbors.Also fixing formatting issues.\n",
    "2. Data Transformation\n",
    "Converting categorical variables into numerical representations.\n",
    "3. Handling outliers:\n",
    "Detecting and dealing with outliers that may affect our analysis.\n",
    "4. Feature engineering:\n",
    "Creating new features using existing ones to capture additional information.\n",
    "5. Feature Selection:\n",
    "Identifying and selection only the most relevant features for the analysis.\n"
   ]
  },
  {
   "cell_type": "markdown",
   "id": "15bc7747",
   "metadata": {},
   "source": [
    "### Machine Learning Models\n",
    "\n",
    "#### 1. Corralation between BMI and age\n",
    "Using liniar regression model we are going to check if there is correlation between athlete's weight, height and their age.\n",
    "\n",
    "#### 2. Correlation between BMI and sport event\n",
    "In this stage we are going to check if there is any correlations between athletes' heigh, weigh, age and the event they perform in. Also we will try to identify patterns among the medalists. It will help us to specify features which make an impact on athlete's success.\n",
    "For those porpoises we will use Random forest tree model.\n",
    "\n",
    "#### 3. Decision tree\n",
    "We are going to apply decision tree model for feachers: weight, height, age, gender, country, sport event and the target variable (medal) to create a tree structure of decision rules."
   ]
  },
  {
   "cell_type": "markdown",
   "id": "d890f1fe",
   "metadata": {},
   "source": [
    "## Timeline\n",
    "\n",
    "1. Project Planning (2 weeks):\n",
    "- Define project objectives and scope.\n",
    "- Conduct initial research and gather resources.\n",
    "- Create a project plan outlining tasks, milestones, and timelines.\n",
    "2. Data Preparation (3 weeks):\n",
    "- Clean and preprocess the data to ensure consistency and quality.\n",
    "- Perform exploratory data analysis (EDA) to understand the dataset's characteristics.\n",
    "- Select appropriate methods.\n",
    "3. Model Development (4 weeks):\n",
    "- Choose suitable machine learning models for analysis.\n",
    "- Develop and train the models using the prepared data.\n",
    "4. Documentation and Reporting (4 weeks):\n",
    "- Document the project process, including methodologies, findings, and challenges faced.\n",
    "- Prepare a final report summarizing the project's objectives, methods, results, and conclusions.\n",
    "- Create visualizations, diagrams, and presentations to demonstrate key insights effectively.\n",
    "5. Finalization and Submission (1 week):\n",
    "- Make final adjustments based on feedback received.\n",
    "- Ensure all documentation and deliverables are complete and polished.\n",
    "- Submit the final project report, code, ethic form, title page as required.\n"
   ]
  },
  {
   "cell_type": "markdown",
   "id": "50994d67",
   "metadata": {},
   "source": [
    "# References \n",
    "\n",
    "#### McArdle, W.D., Katch, F.I. & Katch, V.L. (2000). Body composition: components, assessment, and human variability. In: \n",
    "#### E.Johnson (Ed.) Essentials of Exercise Physiology (pp. 500-527). Lippincott Williams and Wilkins, USA.\n",
    "#### Carter JEL. Morphological Factors Limiting Human Performance. In: Clarke DH, Eckert HM, eds. Limits of Human Performance. American Academy of Physical Education Papers, No. 18. Champaign: Human Kinetics, 1985: 106 117\n",
    "#### Borms J, Hebbelinck M. Review of Studies on Olympic Athletes. In: Carter JEL, ed. Physical Structure of Olympic Athletes Part 11: Kinanthropometry of Olympic Athletes, New York: Basel-Karger, 1984: 7-27.\n",
    "#### Arkaev, L. I. & Suchilin, N. G. How to Create Champions. Oxford, Meyer & Meyer Sport, 2004.\n",
    "#### Cuk, I. & Karácsony, I. Rings. Methods, Ideas, Curiosities, History. Norman (OK), Paul Ziert & Associates, 2002.\n",
    "#### J. Musch et al.Unequal competition as an impediment to personal development: a review of the relative age effect in sport, 2001.\n",
    "#### De Bosscher V., Sports Policy Factors Leading to International Sporting success, Published Doctoral thesis, Vrije Universiteit Brussel, Brussel, VUBPRESS, 2007.\n",
    "#### Bahr R, Clarsen B, Ekstrand J (2018) Why we should focus on the burden of injuries and illnesses, not just their incidence. Br J Sports Med 52:1018–1021. https://doi.org/10.1136/bjsports-2017-098160\n",
    "#### Bahr R, Krosshaug T (2005) Understanding injury mechanisms: a key component of preventing injuries in sport. Br J Sports Med 39:324–329. https://doi.org/10.1136/bjsm.2005.018341\n",
    "#### Arneson, R. (2015). Equality of opportunity. In E. Zalta (Ed.), The Stanford encyclopedia of philosophy (Summer 2015 ed.). Retrieved from https://plato.stanford.edu/archives/sum2015/entries/equal-opportunity/\n",
    "#### Heinilä, K. (1982). The totalization process in international sport. Sportwissenschaft, 12(3), 235–254.\n",
    "#### Flegl, M., & Andrade, L. A. (2018). Measuring countries’ performance at the Summer Olympic Games in Rio 2016. OPSEARCH, 55, 823–846. https://doi.org/10.1007/s12597-018-0347-8\n",
    "#### L. B. Michalsik, \"Analysis of working demands of Danish handball players\" in What’s Going Gym, Copenhagen, Denmark:Forlaget Underskoven, pp. 321-330, 2004.\n",
    "#### T. Frantisek, Competitive Loading in Top Team Handball, Vienna, Austria:European Handball Federation WEB PERIODICAL, 2011.\n",
    "#### P. O. Donoghue, Research Methods for Sports Performance Analysis, Evanston, IL, USA:Routledge, 2009.\n",
    "#### B. Sekeroglu, K. Dimililer and K. Tuncal, \"Artificial Intelligence in Education: Application in student performance evaluation\", Dilemas Contemporaneos Educacion Politica Valores, vol. 7, no. 1, pp. 1-21, 2019.\n",
    "#### E. Meayk and O. Unold, \"Machine learning approach to model sport training\", Comput. Hum. Behav., vol. 27, no. 5, pp. 1499-1506, Sep. 2011.\n",
    "#### B. Ofoghi, J. Zeleznikow, C. Macmahon and D. Dwyer, \"Supporting athlete selection and strategic planning in track cycling omnium: A statistical and machine learning approach\", Inf. Sci., vol. 233, pp. 200-213, Jun. 2013.\n",
    "#### S. Hore and T. Bhattacharya, \"A machine learning based approach towards building a SustainabilityModel for NBA players\", Proc. 2nd Int. Conf. Inventive Commun. Comput. Technol. (ICICCT), pp. 1690-1694, Apr. 2018.\n",
    "#### R. Muazu Musa, A. P. P. Abdul Majeed, Z. Taha, S. W. Chang, A. F. A. Nasir and M. R. Abdullah, \"A machine learning approach of predicting high potential archers by means of physical fitness indicators\", PLoS ONE, vol. 14, no. 1, Jan. 2019.\n",
    "#### R. M. Musa, A. P. A. Majeed, Z. Taha, M. R. Abdullah, A. B. H. M. Maliki and N. A. Kosni, \"The application of artificial neural network and k-nearest neighbour classification models in the scouting of high-performance archers from a selected fitness and motor skill performance parameters\", Sci. Sports, vol. 34, pp. 241-249, Oct. 2019.\n",
    "#### K. de Jesus, H. V. H. Ayala, K. de Jesus, L. D. S. Coelho, A. I. A. Medeiros, J. A. Abraldes, et al., \"Modelling and predicting backstroke start performance using non-linear and linear models\", J. Hum. Kinetics, vol. 61, no. 1, pp. 29-38, Mar. 2018.\n",
    "#### R. Maanijou and S. A. Mirroshandel, \"Introducing an expert system for prediction of soccer player ranking using ensemble learning\", Neural Comput. Appl., vol. 31, no. 12, pp. 9157-9174, Dec. 2019.\n",
    "#### A. I. Anik, S. Yeaser, A. I. Hossain and A. Chakrabarty, \"Player’s Performance Prediction in ODI Cricket Using Machine Learning Algorithms\", Proc. 4th Int. Conf. Electr. Eng. Inf. Commun. Technol. (iCEEiCT), pp. 500-505, Sep. 2018.\n",
    "#### Z. Zhou, S. Shakya and Z. Sha, \"Predicting countermovement jump heights by time domain frequency domain and machine learning algorithms\", Proc. 10th Int. Symp. Comput. Intell. Des. (ISCID), pp. 167-170, 2017.\n"
   ]
  },
  {
   "cell_type": "code",
   "execution_count": 1,
   "id": "b8da49dc",
   "metadata": {},
   "outputs": [
    {
     "name": "stdout",
     "output_type": "stream",
     "text": [
      "Total words: 1548\n"
     ]
    }
   ],
   "source": [
    "import nbformat as nbf\n",
    "\n",
    "doc_path = \"CAO.ipynb\"\n",
    "with open(doc_path, \"r\", encoding = \"utf-8\") as doc_file:\n",
    "    doc_content = nbf.read(doc_file, as_version=4)\n",
    "\n",
    "total_words = 0\n",
    "references = [\"References\"]\n",
    "for cell in doc_content['cells']:\n",
    "    if cell['cell_type'] == 'markdown':\n",
    "        exclude = any(reference in cell['source'] for reference in references)\n",
    "        \n",
    "        if not exclude:\n",
    "            words = len(cell['source'].split())\n",
    "            total_words += words\n",
    "print(\"Total words:\",total_words)"
   ]
  },
  {
   "cell_type": "code",
   "execution_count": null,
   "id": "d78c9d8a",
   "metadata": {},
   "outputs": [],
   "source": []
  }
 ],
 "metadata": {
  "kernelspec": {
   "display_name": "Python 3 (ipykernel)",
   "language": "python",
   "name": "python3"
  },
  "language_info": {
   "codemirror_mode": {
    "name": "ipython",
    "version": 3
   },
   "file_extension": ".py",
   "mimetype": "text/x-python",
   "name": "python",
   "nbconvert_exporter": "python",
   "pygments_lexer": "ipython3",
   "version": "3.9.13"
  }
 },
 "nbformat": 4,
 "nbformat_minor": 5
}
